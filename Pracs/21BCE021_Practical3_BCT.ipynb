{
  "nbformat": 4,
  "nbformat_minor": 0,
  "metadata": {
    "colab": {
      "provenance": []
    },
    "kernelspec": {
      "name": "python3",
      "display_name": "Python 3"
    },
    "language_info": {
      "name": "python"
    }
  },
  "cells": [
    {
      "cell_type": "markdown",
      "source": [
        "Name : Vani Balani\n",
        "\n",
        "Roll No : 21BCE021\n",
        "\n",
        "Course & Course Code : 2CSDE93\n",
        "\n",
        "Practical No : 3\n",
        "\n",
        "AIM : To create a blockchain and consensus mechanism using POW and reward distribution\n"
      ],
      "metadata": {
        "id": "HBSIOsLfQYKH"
      }
    },
    {
      "cell_type": "code",
      "execution_count": null,
      "metadata": {
        "id": "fnV0ZAoMQT0R"
      },
      "outputs": [],
      "source": [
        "import hashlib\n",
        "import datetime"
      ]
    },
    {
      "cell_type": "code",
      "source": [
        "class Block:\n",
        "    def __init__(self, index, previous_hash, timestamp, transaction_data, current_hash, nonce):\n",
        "        self.index = index\n",
        "        self.previous_hash = previous_hash\n",
        "        self.timestamp = timestamp\n",
        "        self.transaction_data = transaction_data\n",
        "        self.current_hash = current_hash\n",
        "        self.nonce = nonce\n",
        "\n",
        "    def __repr__(self):\n",
        "        return f\"Block(Index: {self.index}, Hash: {self.current_hash}, Previous Hash: {self.previous_hash}, Timestamp: {self.timestamp}, Data: {self.transaction_data}, Nonce: {self.nonce})\"\n",
        "\n",
        "class Blockchain:\n",
        "    def __init__(self, difficulty_level=2, reward=50):\n",
        "        self.chain = [self.generate_genesis_block()]\n",
        "        self.difficulty_level = difficulty_level\n",
        "        self.reward = reward\n",
        "        self.pending_rewards = {}\n",
        "\n",
        "    def generate_genesis_block(self):\n",
        "        timestamp = datetime.datetime.now().strftime(\"%Y-%m-%d %H:%M:%S\")\n",
        "        return Block(0, \"0\", timestamp, \"Initial Block\", self.compute_block_hash(0, \"0\", timestamp, \"Initial Block\", 0), 0)\n",
        "\n",
        "    def retrieve_last_block(self):\n",
        "        return self.chain[-1]\n",
        "\n",
        "    def append_block(self, transaction_data):\n",
        "        last_block = self.retrieve_last_block()\n",
        "        new_index = last_block.index + 1\n",
        "        timestamp = datetime.datetime.now().strftime(\"%Y-%m-%d %H:%M:%S\")\n",
        "        previous_hash = last_block.current_hash\n",
        "        nonce, current_hash = self.compute_proof_of_work(new_index, previous_hash, timestamp, transaction_data)\n",
        "        new_block = Block(new_index, previous_hash, timestamp, transaction_data, current_hash, nonce)\n",
        "        self.chain.append(new_block)\n",
        "\n",
        "    def add_block(self, data, miner_address):\n",
        "        new_block = self.append_block(data)\n",
        "        self.chain.append(new_block)\n",
        "        self.pending_rewards[miner_address] = self.pending_rewards.get(miner_address, 0) + self.reward\n",
        "\n",
        "    def compute_block_hash(self, index, previous_hash, timestamp, transaction_data, nonce):\n",
        "        value = f\"{index}{previous_hash}{timestamp}{transaction_data}{nonce}\"\n",
        "        return hashlib.sha256(value.encode('utf-8')).hexdigest()\n",
        "\n",
        "    def compute_proof_of_work(self, index, previous_hash, timestamp, transaction_data):\n",
        "        nonce = 0\n",
        "        while True:\n",
        "            current_hash = self.compute_block_hash(index, previous_hash, timestamp, transaction_data, nonce)\n",
        "            if current_hash[:self.difficulty_level] == '0' * self.difficulty_level:\n",
        "                return nonce, current_hash\n",
        "            nonce += 1\n",
        "\n",
        "    def validate_chain(self):\n",
        "        for i in range(1, len(self.chain)):\n",
        "            current_block = self.chain[i]\n",
        "            previous_block = self.chain[i-1]\n",
        "            recalculated_hash = self.compute_block_hash(current_block.index, current_block.previous_hash, current_block.timestamp, current_block.transaction_data, current_block.nonce)\n",
        "            if current_block.current_hash != recalculated_hash:\n",
        "                return False\n",
        "            if current_block.previous_hash != previous_block.current_hash:\n",
        "                return False\n",
        "        return True\n",
        "\n",
        "    def alter_block(self, index, updated_data):\n",
        "        if 0 < index < len(self.chain):\n",
        "            self.chain[index].transaction_data = updated_data\n",
        "            self.update_block_hash(index)\n",
        "\n",
        "    def update_block_hash(self, index):\n",
        "        current_block = self.chain[index]\n",
        "        previous_hash = self.chain[index-1].current_hash if index > 0 else \"0\"\n",
        "        nonce, current_hash = self.compute_proof_of_work(current_block.index, previous_hash, current_block.timestamp, current_block.transaction_data)\n",
        "        current_block.current_hash = current_hash\n",
        "        current_block.nonce = nonce\n",
        "        current_block.previous_hash = previous_hash\n",
        "\n",
        "    def rewards(self, miner_address):\n",
        "        return self.pending_rewards.get(miner_address, 0)"
      ],
      "metadata": {
        "id": "Iv5LYbSxQrd8"
      },
      "execution_count": null,
      "outputs": []
    },
    {
      "cell_type": "code",
      "source": [
        "def run_blockchain_operations():\n",
        "    blockchain = Blockchain(difficulty_level=2)\n",
        "    blockchain.append_block(\"Transaction 1: Alice pays Bob 10 BTC\")\n",
        "    blockchain.append_block(\"Transaction 2: Bob pays Charlie 5 BTC\")\n",
        "    blockchain.append_block(\"Transaction 3: Charlie pays Alice 2 BTC\")\n",
        "\n",
        "    print(\"Initial Blockchain:\")\n",
        "    for block in blockchain.chain:\n",
        "        print(block)\n",
        "\n",
        "    print(\"REWARDS\")\n",
        "    print(f\"Miner1: {blockchain.rewards('Miner1')}\")\n",
        "    print(f\"Miner2: {blockchain.rewards('Miner2')}\")\n",
        "\n",
        "    print(\"\\nBlockchain validity -> \", blockchain.validate_chain())\n",
        "\n",
        "    blockchain.alter_block(1, \"Tampered Transaction: Alice pays Bob 100 BTC\")\n",
        "    print(\"\\nBlockchain post-tampering:\")\n",
        "    for block in blockchain.chain:\n",
        "        print(block)\n",
        "\n",
        "    print(\"\\nBlockchain validity -> \", blockchain.validate_chain())\n",
        "\n",
        "run_blockchain_operations()"
      ],
      "metadata": {
        "colab": {
          "base_uri": "https://localhost:8080/"
        },
        "id": "RgLGvzuUWGcl",
        "outputId": "a5f668ba-644f-421f-de9b-e90eed44160a"
      },
      "execution_count": null,
      "outputs": [
        {
          "output_type": "stream",
          "name": "stdout",
          "text": [
            "Initial Blockchain:\n",
            "Block(Index: 0, Hash: 3b3a16457a3272322d665715513c5b276912c12677384607ccb2864506f86c2b, Previous Hash: 0, Timestamp: 2024-09-02 12:15:07, Data: Initial Block, Nonce: 0)\n",
            "Block(Index: 1, Hash: 00e603f1e2f25dc0cc093b2a4453be45eef709e3b62529b607baaf1f66528fdb, Previous Hash: 3b3a16457a3272322d665715513c5b276912c12677384607ccb2864506f86c2b, Timestamp: 2024-09-02 12:15:07, Data: Transaction 1: Alice pays Bob 10 BTC, Nonce: 1252)\n",
            "Block(Index: 2, Hash: 00b5a3094702c02ef5e173c4ecc23af247bb6c53b1925bc7bfd8156763a3a84b, Previous Hash: 00e603f1e2f25dc0cc093b2a4453be45eef709e3b62529b607baaf1f66528fdb, Timestamp: 2024-09-02 12:15:07, Data: Transaction 2: Bob pays Charlie 5 BTC, Nonce: 7)\n",
            "Block(Index: 3, Hash: 00f71079dda8453bf70ea8a03913dc22e87038280f729186032d0d99aeb395ab, Previous Hash: 00b5a3094702c02ef5e173c4ecc23af247bb6c53b1925bc7bfd8156763a3a84b, Timestamp: 2024-09-02 12:15:07, Data: Transaction 3: Charlie pays Alice 2 BTC, Nonce: 51)\n",
            "REWARDS\n",
            "Miner1: 0\n",
            "Miner2: 0\n",
            "\n",
            "Blockchain validity ->  True\n",
            "\n",
            "Blockchain post-tampering:\n",
            "Block(Index: 0, Hash: 3b3a16457a3272322d665715513c5b276912c12677384607ccb2864506f86c2b, Previous Hash: 0, Timestamp: 2024-09-02 12:15:07, Data: Initial Block, Nonce: 0)\n",
            "Block(Index: 1, Hash: 003ca3eec1dca68ffaf55d678513733a546f2cba00d4181f6672633e5fd9f709, Previous Hash: 3b3a16457a3272322d665715513c5b276912c12677384607ccb2864506f86c2b, Timestamp: 2024-09-02 12:15:07, Data: Tampered Transaction: Alice pays Bob 100 BTC, Nonce: 37)\n",
            "Block(Index: 2, Hash: 00b5a3094702c02ef5e173c4ecc23af247bb6c53b1925bc7bfd8156763a3a84b, Previous Hash: 00e603f1e2f25dc0cc093b2a4453be45eef709e3b62529b607baaf1f66528fdb, Timestamp: 2024-09-02 12:15:07, Data: Transaction 2: Bob pays Charlie 5 BTC, Nonce: 7)\n",
            "Block(Index: 3, Hash: 00f71079dda8453bf70ea8a03913dc22e87038280f729186032d0d99aeb395ab, Previous Hash: 00b5a3094702c02ef5e173c4ecc23af247bb6c53b1925bc7bfd8156763a3a84b, Timestamp: 2024-09-02 12:15:07, Data: Transaction 3: Charlie pays Alice 2 BTC, Nonce: 51)\n",
            "\n",
            "Blockchain validity ->  False\n"
          ]
        }
      ]
    }
  ]
}