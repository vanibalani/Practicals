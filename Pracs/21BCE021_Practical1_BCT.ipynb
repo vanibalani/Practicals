{
  "cells": [
    {
      "cell_type": "markdown",
      "source": [
        "Name : Vani Balani\n",
        "\n",
        "Roll No : 21BCE021\n",
        "\n",
        "Course & Course Code : 2CSDE93\n",
        "\n",
        "Practical No : 1"
      ],
      "metadata": {
        "id": "KCnQnAhkOJOS"
      }
    },
    {
      "cell_type": "code",
      "source": [
        "!pip install pycryptodome"
      ],
      "metadata": {
        "colab": {
          "base_uri": "https://localhost:8080/"
        },
        "id": "_DXtNPvgwOFW",
        "outputId": "f459f082-d253-4201-9ef1-084a59c96ee3"
      },
      "execution_count": 20,
      "outputs": [
        {
          "output_type": "stream",
          "name": "stdout",
          "text": [
            "Requirement already satisfied: pycryptodome in /usr/local/lib/python3.10/dist-packages (3.20.0)\n"
          ]
        }
      ]
    },
    {
      "cell_type": "code",
      "execution_count": 21,
      "metadata": {
        "id": "dmax68OyVWOi"
      },
      "outputs": [],
      "source": [
        "import hashlib\n",
        "from Crypto.Hash import SHA256, SHA512, BLAKE2s, MD5, keccak, HMAC\n",
        "from Crypto.PublicKey import RSA\n",
        "from Crypto.Cipher import PKCS1_OAEP\n",
        "import binascii\n",
        "import os"
      ]
    },
    {
      "cell_type": "code",
      "execution_count": 22,
      "metadata": {
        "id": "Uqu9ZuDAVWOk",
        "colab": {
          "base_uri": "https://localhost:8080/"
        },
        "outputId": "5be8fec5-0e5d-4eba-8f69-0e36873adef5"
      },
      "outputs": [
        {
          "output_type": "stream",
          "name": "stdout",
          "text": [
            "SHA256: 185f8db32271fe25f561a6fc938b2e264306ec304eda518007d1764826381969\n",
            "SHA512: 3615f80c9d293ed7402687f94b22d58e529b8cc7916f8fac7fddf7fbd5af4cf777d3d795a7a00a16bf7e7f3fb9561ee9baae480da9fe7a18769e71886b03f315\n",
            "BLAKE2s: f73a5fbf881f89b814871f46e26ad3fa37cb2921c5e8561618639015b3ccbb71\n",
            "MD5: 8b1a9953c4611296a827abf8c47804d7\n",
            "Keccak (SHA3-512): c33fede18a1ae53ddb8663710f8054866beb714044fce759790459996196f101d94dfc7bd8268577f7ee3d2f8ff0cef4004a9632227db84df62d2b40682d69e2\n"
          ]
        }
      ],
      "source": [
        "# Hashing\n",
        "test = b'Hello'\n",
        "hash_object1 = SHA256.new(data=test)\n",
        "print(\"SHA256:\",hash_object1.hexdigest())\n",
        "hash_object2 = SHA512.new(data=test)\n",
        "print(\"SHA512:\",hash_object2.hexdigest())\n",
        "hash_object3 = BLAKE2s.new(digest_bits=256)\n",
        "hash_object3.update(test)\n",
        "print(\"BLAKE2s:\",hash_object3.hexdigest())\n",
        "hash_object4 = MD5.new()\n",
        "hash_object4.update(test)\n",
        "print(\"MD5:\",hash_object4.hexdigest())\n",
        "hash_object5 = keccak.new(digest_bits=512)\n",
        "hash_object5.update(test)\n",
        "print(\"Keccak (SHA3-512):\",hash_object5.hexdigest())"
      ]
    },
    {
      "cell_type": "code",
      "execution_count": 23,
      "metadata": {
        "colab": {
          "base_uri": "https://localhost:8080/"
        },
        "id": "y0j6QUSUVWOl",
        "outputId": "fa531bcc-8278-4ca5-b7a2-fc0d7e21715c"
      },
      "outputs": [
        {
          "output_type": "stream",
          "name": "stdout",
          "text": [
            "SHA256: 185f8db32271fe25f561a6fc938b2e264306ec304eda518007d1764826381969\n",
            "Encrypted SHA256 hash: 57a17c5cb5a3a5bd0273cc10ae041083ea2c0f6438f9b25c932660b60661b2c745b6c47ade38eb23f72ae9a85abf3ec208004c69c333016d40608f81b324340083dacb594730c64bc2abc70d7034e43b1bfeb7045a8c4fd70563bbaed3a4aa89eabcd41d6e971edf52c18d40a3d0f9d7a112b2348b7a8b39a8a9d3596d7e7f6f428b66bb366719203461d234ea141603850a1a636f7ae55c0c0fdcc7d218e4f734809d8c092b61910d4ab1a591e1d3353c2889774d2eb00a8b0b1799bc28c35049738c8cfc2de7d7b6411bd64039cb8c34a9a25f7f60cb919efca234d811ac83b11c6b247c2ec57b355febee7a7e9e2b80f84c0ac22c29f4f0f86808658fc9a6\n",
            "Decrypted SHA256 hash: 185f8db32271fe25f561a6fc938b2e264306ec304eda518007d1764826381969\n"
          ]
        }
      ],
      "source": [
        "# RSA\n",
        "message = b'Hello'\n",
        "hash_object = SHA256.new(message)\n",
        "sha256_hash = hash_object1.hexdigest()\n",
        "print(\"SHA256:\", sha256_hash)\n",
        "\n",
        "key = RSA.generate(2048)\n",
        "public_key = key.publickey()\n",
        "private_key = key\n",
        "\n",
        "cipher = PKCS1_OAEP.new(public_key)\n",
        "encrypted_hash = cipher.encrypt(sha256_hash.encode('utf-8'))\n",
        "print(\"Encrypted SHA256 hash:\", binascii.hexlify(encrypted_hash).decode('utf-8'))\n",
        "\n",
        "decrypt_cipher = PKCS1_OAEP.new(private_key)\n",
        "decrypted_hash = decrypt_cipher.decrypt(encrypted_hash)\n",
        "print(\"Decrypted SHA256 hash:\",  decrypted_hash.decode('utf-8'))"
      ]
    },
    {
      "cell_type": "code",
      "execution_count": 24,
      "metadata": {
        "id": "iWpFECMXVWOl",
        "outputId": "af1a6f3d-4b4a-4c31-c128-73c3977cc335",
        "colab": {
          "base_uri": "https://localhost:8080/"
        }
      },
      "outputs": [
        {
          "output_type": "stream",
          "name": "stdout",
          "text": [
            "Original Hash: 2cf24dba5fb0a30e26e83b2ac5b9e29e1b161e5c1fa7425e73043362938b9824\n",
            "Tampered Hash: f4e454f802b88d2f64168ff1742e8cf413fd677d38b87cbefb45821f8981b912\n",
            "The hashes do not match. Tampering detected.\n"
          ]
        }
      ],
      "source": [
        "def encrypt_message_hash(message, public_key):\n",
        "    hash_object = SHA256.new(message)\n",
        "    sha256_hash = hash_object.hexdigest()\n",
        "\n",
        "    cipher = PKCS1_OAEP.new(public_key)\n",
        "    encrypted_hash = cipher.encrypt(sha256_hash.encode('utf-8'))\n",
        "    return encrypted_hash\n",
        "\n",
        "key = RSA.generate(2048)\n",
        "public_key = key.publickey()\n",
        "private_key = key\n",
        "\n",
        "original_msg = b'hello'\n",
        "damaged_msg = b'helo'\n",
        "\n",
        "encrypted_original_hash = encrypt_message_hash(original_msg, public_key)\n",
        "encrypted_damaged_hash = encrypt_message_hash(damaged_msg, public_key)\n",
        "\n",
        "decrypt_cipher = PKCS1_OAEP.new(private_key)\n",
        "decrypted_original_hash = decrypt_cipher.decrypt(encrypted_original_hash).decode('utf-8')\n",
        "decrypted_damaged_hash = decrypt_cipher.decrypt(encrypted_damaged_hash).decode('utf-8')\n",
        "\n",
        "print(f\"Original Hash: {decrypted_original_hash}\")\n",
        "print(f\"Tampered Hash: {decrypted_damaged_hash}\")\n",
        "\n",
        "if decrypted_original_hash == decrypted_damaged_hash:\n",
        "    print(\"The hashes match. No tampering detected.\")\n",
        "else:\n",
        "    print(\"The hashes do not match. Tampering detected.\")\n"
      ]
    },
    {
      "cell_type": "code",
      "execution_count": 25,
      "metadata": {
        "id": "ai4_MaAQVWOm",
        "outputId": "d67b36fd-c50c-43e8-d7d2-4191cc386a4f",
        "colab": {
          "base_uri": "https://localhost:8080/"
        }
      },
      "outputs": [
        {
          "output_type": "stream",
          "name": "stdout",
          "text": [
            "SHA256: ca978112ca1bbdcafac231b39a23dc4da786eff8147c4e72b9807785afee48bb\n",
            "Encrypted SHA256 hash: 396d96ecd7f01a54a3ee701474a1a2cf82015673e8ed820a06387de1e21139cbfe6fbc244a02b7829b9d9bdb94de58cfa226cbbca6b1e9085fc64f9982d32bbc46178db041f653ce56feb661bd7238075a4a300a4a1cbd9c307b20d94eb09d6beaeb7e8cd147c56fa00a434588b87f51c28d1a801d6affbc08229b62af634b4d51e58defd4a5332efdce34be7993d7176fa1ce20a8da548e21d16907389d704571c36d8c8a6a0c1f6033e9b6adec16b910474e269a532905760d7e0392ba335f371a70728dfc70641c3aeb80990c70336c9d692464e6b6845f3ad723c442e37d458de6537fae6b5e40b98f7f839e7a12491821f14e4f6c12225f206249a28393\n",
            "Decrypted SHA256 hash: ca978112ca1bbdcafac231b39a23dc4da786eff8147c4e72b9807785afee48bb\n",
            "HMAC: 8f4da1482174ad6f3929436806eba44920a3b735ab53bfabacf948be39bbeb9c\n",
            "The message is authentic.\n"
          ]
        }
      ],
      "source": [
        "# HMAC\n",
        "msg = b'a'\n",
        "hash_object1 = SHA256.new(data=msg)\n",
        "sha256_hash = hash_object1.hexdigest()\n",
        "print(\"SHA256:\", sha256_hash)\n",
        "hash_to_encrypt = sha256_hash\n",
        "\n",
        "key = RSA.generate(2048)\n",
        "public_key = key.publickey()\n",
        "private_key = key\n",
        "\n",
        "cipher = PKCS1_OAEP.new(public_key)\n",
        "encrypted_hash = cipher.encrypt(hash_to_encrypt.encode('utf-8'))\n",
        "print(\"Encrypted SHA256 hash:\", binascii.hexlify(encrypted_hash).decode('utf-8'))\n",
        "\n",
        "decrypt_cipher = PKCS1_OAEP.new(private_key)\n",
        "decrypted_hash = decrypt_cipher.decrypt(encrypted_hash)\n",
        "print(\"Decrypted SHA256 hash:\", decrypted_hash.decode('utf-8'))\n",
        "\n",
        "secret_key = os.urandom(16)\n",
        "hmac_object = HMAC.new(secret_key, digestmod=SHA256)\n",
        "hmac_object.update(test)\n",
        "mac = hmac_object.hexdigest()\n",
        "print(\"HMAC:\", mac)\n",
        "\n",
        "try:\n",
        "    hmac_object.verify(bytes.fromhex(mac))\n",
        "    print(\"The message is authentic.\")\n",
        "except ValueError:\n",
        "    print(\"The message or the key is wrong.\")"
      ]
    }
  ],
  "metadata": {
    "kernelspec": {
      "display_name": "Python 3",
      "language": "python",
      "name": "python3"
    },
    "language_info": {
      "codemirror_mode": {
        "name": "ipython",
        "version": 3
      },
      "file_extension": ".py",
      "mimetype": "text/x-python",
      "name": "python",
      "nbconvert_exporter": "python",
      "pygments_lexer": "ipython3",
      "version": "3.11.4"
    },
    "colab": {
      "provenance": []
    }
  },
  "nbformat": 4,
  "nbformat_minor": 0
}