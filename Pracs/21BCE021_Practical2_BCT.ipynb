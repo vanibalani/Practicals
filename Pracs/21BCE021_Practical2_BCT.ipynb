{
  "nbformat": 4,
  "nbformat_minor": 0,
  "metadata": {
    "colab": {
      "provenance": []
    },
    "kernelspec": {
      "name": "python3",
      "display_name": "Python 3"
    },
    "language_info": {
      "name": "python"
    }
  },
  "cells": [
    {
      "cell_type": "markdown",
      "source": [
        "Name : Vani Balani\n",
        "\n",
        "Roll No : 21BCE021\n",
        "\n",
        "Course & Course Code : 2CSDE93\n",
        "\n",
        "Practical No : 2\n",
        "\n",
        "AIM : To create a blockchain and implement replay attacks on blockchain\n"
      ],
      "metadata": {
        "id": "HBSIOsLfQYKH"
      }
    },
    {
      "cell_type": "code",
      "execution_count": null,
      "metadata": {
        "id": "fnV0ZAoMQT0R"
      },
      "outputs": [],
      "source": [
        "import hashlib\n",
        "import datetime"
      ]
    },
    {
      "cell_type": "code",
      "source": [
        "class Block:\n",
        "    def __init__(self, index, previous_hash, timestamp, transaction_data, current_hash, nonce):\n",
        "        self.index = index\n",
        "        self.previous_hash = previous_hash\n",
        "        self.timestamp = timestamp\n",
        "        self.transaction_data = transaction_data\n",
        "        self.current_hash = current_hash\n",
        "        self.nonce = nonce\n",
        "\n",
        "    def __repr__(self):\n",
        "        return f\"Block(Index: {self.index}, Hash: {self.current_hash}, Previous Hash: {self.previous_hash}, Timestamp: {self.timestamp}, Data: {self.transaction_data}, Nonce: {self.nonce})\"\n",
        "\n",
        "class Blockchain:\n",
        "    def __init__(self, difficulty_level=2):\n",
        "        self.chain = [self.generate_genesis_block()]\n",
        "        self.difficulty_level = difficulty_level\n",
        "\n",
        "    def generate_genesis_block(self):\n",
        "        timestamp = datetime.datetime.now().strftime(\"%Y-%m-%d %H:%M:%S\")\n",
        "        return Block(0, \"0\", timestamp, \"Initial Block\", self.compute_block_hash(0, \"0\", timestamp, \"Initial Block\", 0), 0)\n",
        "\n",
        "    def retrieve_last_block(self):\n",
        "        return self.chain[-1]\n",
        "\n",
        "    def append_block(self, transaction_data):\n",
        "        last_block = self.retrieve_last_block()\n",
        "        new_index = last_block.index + 1\n",
        "        timestamp = datetime.datetime.now().strftime(\"%Y-%m-%d %H:%M:%S\")\n",
        "        previous_hash = last_block.current_hash\n",
        "        nonce, current_hash = self.compute_proof_of_work(new_index, previous_hash, timestamp, transaction_data)\n",
        "        new_block = Block(new_index, previous_hash, timestamp, transaction_data, current_hash, nonce)\n",
        "        self.chain.append(new_block)\n",
        "\n",
        "    def compute_block_hash(self, index, previous_hash, timestamp, transaction_data, nonce):\n",
        "        value = f\"{index}{previous_hash}{timestamp}{transaction_data}{nonce}\"\n",
        "        return hashlib.sha256(value.encode('utf-8')).hexdigest()\n",
        "\n",
        "    def compute_proof_of_work(self, index, previous_hash, timestamp, transaction_data):\n",
        "        nonce = 0\n",
        "        while True:\n",
        "            current_hash = self.compute_block_hash(index, previous_hash, timestamp, transaction_data, nonce)\n",
        "            if current_hash[:self.difficulty_level] == '0' * self.difficulty_level:\n",
        "                return nonce, current_hash\n",
        "            nonce += 1\n",
        "\n",
        "    def validate_chain(self):\n",
        "        for i in range(1, len(self.chain)):\n",
        "            current_block = self.chain[i]\n",
        "            previous_block = self.chain[i-1]\n",
        "            recalculated_hash = self.compute_block_hash(current_block.index, current_block.previous_hash, current_block.timestamp, current_block.transaction_data, current_block.nonce)\n",
        "            if current_block.current_hash != recalculated_hash:\n",
        "                return False\n",
        "            if current_block.previous_hash != previous_block.current_hash:\n",
        "                return False\n",
        "        return True\n",
        "\n",
        "    def alter_block(self, index, updated_data):\n",
        "        if 0 < index < len(self.chain):\n",
        "            self.chain[index].transaction_data = updated_data\n",
        "            self.update_block_hash(index)\n",
        "\n",
        "    def update_block_hash(self, index):\n",
        "        current_block = self.chain[index]\n",
        "        previous_hash = self.chain[index-1].current_hash if index > 0 else \"0\"\n",
        "        nonce, current_hash = self.compute_proof_of_work(current_block.index, previous_hash, current_block.timestamp, current_block.transaction_data)\n",
        "        current_block.current_hash = current_hash\n",
        "        current_block.nonce = nonce\n",
        "        current_block.previous_hash = previous_hash"
      ],
      "metadata": {
        "id": "Iv5LYbSxQrd8"
      },
      "execution_count": 11,
      "outputs": []
    },
    {
      "cell_type": "code",
      "source": [
        "def run_blockchain_operations():\n",
        "    blockchain = Blockchain(difficulty_level=2)\n",
        "    blockchain.append_block(\"Transaction 1: Alice pays Bob 10 BTC\")\n",
        "    blockchain.append_block(\"Transaction 2: Bob pays Charlie 5 BTC\")\n",
        "    blockchain.append_block(\"Transaction 3: Charlie pays Alice 2 BTC\")\n",
        "\n",
        "    print(\"Initial Blockchain:\")\n",
        "    for block in blockchain.chain:\n",
        "        print(block)\n",
        "\n",
        "    print(\"\\nBlockchain validity -> \", blockchain.validate_chain())\n",
        "\n",
        "    blockchain.alter_block(1, \"Tampered Transaction: Alice pays Bob 100 BTC\")\n",
        "    print(\"\\nBlockchain post-tampering:\")\n",
        "    for block in blockchain.chain:\n",
        "        print(block)\n",
        "\n",
        "    print(\"\\nBlockchain validity -> \", blockchain.validate_chain())\n",
        "\n",
        "run_blockchain_operations()"
      ],
      "metadata": {
        "colab": {
          "base_uri": "https://localhost:8080/"
        },
        "id": "RgLGvzuUWGcl",
        "outputId": "0d55ef8c-a71f-4da3-cef2-b2fc217696bb"
      },
      "execution_count": 12,
      "outputs": [
        {
          "output_type": "stream",
          "name": "stdout",
          "text": [
            "Initial Blockchain:\n",
            "Block(Index: 0, Hash: e5ea0c8debb8de532ae21b871ae7bfe658e98208e2563de21fa67d841d7abda3, Previous Hash: 0, Timestamp: 2024-08-10 18:13:10, Data: Initial Block, Nonce: 0)\n",
            "Block(Index: 1, Hash: 00f0dca583caf007528f7f110b571429e6da84c64d49122389981cffb85e87e2, Previous Hash: e5ea0c8debb8de532ae21b871ae7bfe658e98208e2563de21fa67d841d7abda3, Timestamp: 2024-08-10 18:13:10, Data: Transaction 1: Alice pays Bob 10 BTC, Nonce: 335)\n",
            "Block(Index: 2, Hash: 00e0126aded79014d27f26c0c7ea5d037cb1cd1b69fd3eacad232a1e38526fa1, Previous Hash: 00f0dca583caf007528f7f110b571429e6da84c64d49122389981cffb85e87e2, Timestamp: 2024-08-10 18:13:10, Data: Transaction 2: Bob pays Charlie 5 BTC, Nonce: 98)\n",
            "Block(Index: 3, Hash: 009c5ddeec16ad100cc1211ed41640db71cfb08312c416d19c66f41fa1f6707c, Previous Hash: 00e0126aded79014d27f26c0c7ea5d037cb1cd1b69fd3eacad232a1e38526fa1, Timestamp: 2024-08-10 18:13:10, Data: Transaction 3: Charlie pays Alice 2 BTC, Nonce: 104)\n",
            "\n",
            "Blockchain validity ->  True\n",
            "\n",
            "Blockchain post-tampering:\n",
            "Block(Index: 0, Hash: e5ea0c8debb8de532ae21b871ae7bfe658e98208e2563de21fa67d841d7abda3, Previous Hash: 0, Timestamp: 2024-08-10 18:13:10, Data: Initial Block, Nonce: 0)\n",
            "Block(Index: 1, Hash: 009fd017b700b31e7a48f27be0eecb15ab8226974bf7aa0dbfe8fb933dd6a0a8, Previous Hash: e5ea0c8debb8de532ae21b871ae7bfe658e98208e2563de21fa67d841d7abda3, Timestamp: 2024-08-10 18:13:10, Data: Tampered Transaction: Alice pays Bob 100 BTC, Nonce: 1218)\n",
            "Block(Index: 2, Hash: 00e0126aded79014d27f26c0c7ea5d037cb1cd1b69fd3eacad232a1e38526fa1, Previous Hash: 00f0dca583caf007528f7f110b571429e6da84c64d49122389981cffb85e87e2, Timestamp: 2024-08-10 18:13:10, Data: Transaction 2: Bob pays Charlie 5 BTC, Nonce: 98)\n",
            "Block(Index: 3, Hash: 009c5ddeec16ad100cc1211ed41640db71cfb08312c416d19c66f41fa1f6707c, Previous Hash: 00e0126aded79014d27f26c0c7ea5d037cb1cd1b69fd3eacad232a1e38526fa1, Timestamp: 2024-08-10 18:13:10, Data: Transaction 3: Charlie pays Alice 2 BTC, Nonce: 104)\n",
            "\n",
            "Blockchain validity ->  False\n"
          ]
        }
      ]
    }
  ]
}